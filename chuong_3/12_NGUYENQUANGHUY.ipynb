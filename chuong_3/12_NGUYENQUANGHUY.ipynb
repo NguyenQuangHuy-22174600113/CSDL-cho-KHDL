{
 "cells": [
  {
   "cell_type": "code",
   "execution_count": 1,
   "id": "20118915",
   "metadata": {},
   "outputs": [],
   "source": [
    "import sqlite3\n",
    "conn = sqlite3.connect(\"test.db\")\n",
    "cursor = conn.cursor()\n",
    "\n",
    "cursor.execute(''' CREATE TABLE Data(\n",
    "    A INTEGER,\n",
    "    B INTEGER\n",
    ");''')\n",
    "\n",
    "conn.commit()"
   ]
  },
  {
   "cell_type": "code",
   "execution_count": 2,
   "id": "8ded3d9e",
   "metadata": {},
   "outputs": [],
   "source": [
    "cursor.execute(''' INSERT INTO Data(A, B) VALUES\n",
    "            (1, 3),\n",
    "            (3, 7),\n",
    "            (5, 9),\n",
    "            (7, 11),\n",
    "            (9, 15);''')\n",
    "conn.commit()"
   ]
  },
  {
   "cell_type": "markdown",
   "id": "d805a7da",
   "metadata": {},
   "source": [
    "Câu 1"
   ]
  },
  {
   "cell_type": "code",
   "execution_count": 6,
   "id": "91569dbb",
   "metadata": {},
   "outputs": [
    {
     "name": "stdout",
     "output_type": "stream",
     "text": [
      "[(0.9899494936611665,)]\n"
     ]
    }
   ],
   "source": [
    "cursor.execute('''WITH DataCTE AS (\n",
    "        SELECT * FROM Data\n",
    "    ),\n",
    "    Sums AS (\n",
    "        SELECT \n",
    "            SUM(A) AS sum_a,\n",
    "            SUM(B) AS sum_b,\n",
    "            SUM(A * B) AS sum_ab,\n",
    "            SUM(POWER(A, 2)) AS sum_a_sq,\n",
    "            SUM(POWER(B, 2)) AS sum_b_sq,\n",
    "            COUNT(*) AS n\n",
    "        FROM DataCTE\n",
    "    )\n",
    "SELECT \n",
    "    (n * sum_ab - sum_a * sum_b) / \n",
    "    (SQRT(n * sum_a_sq - POWER(sum_a, 2)) * SQRT(n * sum_b_sq - POWER(sum_b, 2))) AS r_AB\n",
    "FROM Sums;''')\n",
    "print(cursor.fetchall())\n",
    "conn.commit()"
   ]
  },
  {
   "cell_type": "markdown",
   "id": "55718f3e",
   "metadata": {},
   "source": [
    "Câu 2\n"
   ]
  },
  {
   "cell_type": "code",
   "execution_count": 34,
   "id": "9957dc27",
   "metadata": {},
   "outputs": [],
   "source": [
    "cursor.execute('''CREATE TABLE car_data(\n",
    "    day TEXT,\n",
    "    model TEXT,\n",
    "    score FLOAT\n",
    ");''')\n",
    "conn.commit()"
   ]
  },
  {
   "cell_type": "code",
   "execution_count": 35,
   "id": "54fa45a8",
   "metadata": {},
   "outputs": [],
   "source": [
    "cursor.execute('''INSERT INTO car_data VALUES\n",
    "    ('Day1', 'A', 8.0),\n",
    "    ('Day1', 'B', 9.0),\n",
    "    ('Day1', 'C', 7.0),\n",
    "    ('Day2', 'A', 7.5),\n",
    "    ('Day2', 'B', 8.5),\n",
    "    ('Day2', 'C', 7.0),\n",
    "    ('Day3', 'A', 6.0),\n",
    "    ('Day3', 'B', 7.0),\n",
    "    ('Day3', 'C', 8.0),\n",
    "    ('Day4', 'A', 7.0),\n",
    "    ('Day4', 'B', 6.0),\n",
    "    ('Day4', 'C', 5.0);''')\n",
    "conn.commit()"
   ]
  },
  {
   "cell_type": "code",
   "execution_count": 36,
   "id": "79de1908",
   "metadata": {},
   "outputs": [
    {
     "name": "stdout",
     "output_type": "stream",
     "text": [
      "[(0.8264,)]\n"
     ]
    }
   ],
   "source": [
    "cursor.execute('''\n",
    "-- Thực hiện kiểm định Chi-square\n",
    "WITH Observed AS (\n",
    "    SELECT \n",
    "        model,\n",
    "        day,\n",
    "        score as freq\n",
    "    FROM car_data\n",
    "),\n",
    "-- Tính tổng hàng (tổng cho mỗi ngày)\n",
    "RowTotals AS (\n",
    "    SELECT \n",
    "        day,\n",
    "        SUM(freq) AS total_day\n",
    "    FROM Observed\n",
    "    GROUP BY day\n",
    "),\n",
    "-- Tính tổng cột (tổng cho từng mô hình)\n",
    "ColumnTotals AS (\n",
    "    SELECT \n",
    "        model,\n",
    "        SUM(freq) AS total_model\n",
    "    FROM Observed\n",
    "    GROUP BY model\n",
    "),\n",
    "-- Tính tần suất dự kiến\n",
    "Expected AS (\n",
    "    SELECT \n",
    "        o.model,\n",
    "        o.day,\n",
    "        (ct.total_model * rt.total_day) / (SELECT SUM(freq) FROM Observed) AS expected_freq\n",
    "    FROM Observed o\n",
    "    JOIN RowTotals rt ON o.day = rt.day\n",
    "    JOIN ColumnTotals ct ON o.model = ct.model\n",
    ")\n",
    "-- Tính thống kê chi bình phương\n",
    "SELECT \n",
    "    ROUND(SUM(POWER(o.freq - e.expected_freq, 2) / e.expected_freq), 4) AS chi_square\n",
    "FROM Observed o\n",
    "JOIN Expected e ON o.model = e.model AND o.day = e.day;\n",
    "''')\n",
    "print(cursor.fetchall())\n",
    "conn.commit()\n"
   ]
  },
  {
   "cell_type": "code",
   "execution_count": null,
   "id": "6ece9c15",
   "metadata": {},
   "outputs": [
    {
     "name": "stdout",
     "output_type": "stream",
     "text": [
      "[(6,)]\n"
     ]
    }
   ],
   "source": [
    "# Bậc tự do\n",
    "cursor.execute('''SELECT \n",
    "    (COUNT(DISTINCT day) - 1) * (COUNT(DISTINCT model) - 1) AS degrees_of_freedom\n",
    "FROM car_data;''')\n",
    "print(cursor.fetchall())\n"
   ]
  },
  {
   "cell_type": "markdown",
   "id": "063720a6",
   "metadata": {},
   "source": [
    "0.8264 < 12.592 (giá trị tới hạn)=> không thể bác bỏ giả thuyết H0\n",
    "\n",
    "Vì vậy: \n",
    "\n",
    "không có sự khác biệt đáng kể giữa các mẫu xe A, B và C(Hiệu suất của 3 mẫu xe khá tương đồng nhau)\n",
    "\n",
    "Điểm số không phụ thuộc đáng kể vào ngày thử nghiệm (Thời gian thử nghiệm không ảnh hưởng đáng kể đến kết quả)\n",
    "\n",
    "Sự khác biệt trong điểm số có thể do ngẫu nhiên\n",
    "\n"
   ]
  },
  {
   "cell_type": "markdown",
   "id": "bd1c0f6b",
   "metadata": {},
   "source": [
    "Câu 3"
   ]
  },
  {
   "cell_type": "code",
   "execution_count": 13,
   "id": "2c4f234a",
   "metadata": {},
   "outputs": [],
   "source": [
    "cursor.execute(\"\"\"\n",
    "CREATE TABLE flights (\n",
    "    id INTEGER PRIMARY KEY,\n",
    "    departure_time INTEGER\n",
    ");\"\"\")\n",
    "\n",
    "data = [(1, 830), (2, 1445), (3, 8), (4, 6), (5, 15), (6, 10), (7, 11), (8, 12), (9, 13), (10, 14)]\n",
    "cursor.executemany(\"INSERT INTO flights (id, departure_time) VALUES (?, ?)\", data)\n",
    "conn.commit()"
   ]
  },
  {
   "cell_type": "code",
   "execution_count": 16,
   "id": "73e036b2",
   "metadata": {},
   "outputs": [
    {
     "name": "stdout",
     "output_type": "stream",
     "text": [
      "[(830, '08:30:00'), (1445, '14:45:00'), (8, '00:08:00'), (6, '00:06:00'), (15, '00:15:00'), (10, '00:10:00'), (11, '00:11:00'), (12, '00:12:00'), (13, '00:13:00'), (14, '00:14:00')]\n"
     ]
    }
   ],
   "source": [
    "cursor.execute('''SELECT departure_time,\n",
    "    TIME(\n",
    "        substr('0000' || departure_time, -4, 2) || ':' ||\n",
    "        substr('0000' || departure_time, -2) || ':00'\n",
    "    ) AS formatted_time\n",
    "FROM flights;''')\n",
    "print(cursor.fetchall())\n",
    "conn.commit()"
   ]
  },
  {
   "cell_type": "markdown",
   "id": "dddecfec",
   "metadata": {},
   "source": [
    "Câu 4"
   ]
  },
  {
   "cell_type": "code",
   "execution_count": 17,
   "id": "6a467ff6",
   "metadata": {},
   "outputs": [],
   "source": [
    "cursor.execute('''\n",
    "CREATE TABLE test_data (\n",
    "    id INTEGER PRIMARY KEY,\n",
    "    value FLOAT\n",
    ");''')\n",
    "\n",
    "cursor.execute('''\n",
    "INSERT INTO test_data (value) \n",
    "VALUES \n",
    "    (10), (12), \n",
    "    (13), (14), \n",
    "    (15), (16), \n",
    "    (17), (18), \n",
    "    (100), (11);''')\n",
    "\n",
    "conn.commit()"
   ]
  },
  {
   "cell_type": "code",
   "execution_count": 18,
   "id": "02cb88ee",
   "metadata": {},
   "outputs": [
    {
     "name": "stdout",
     "output_type": "stream",
     "text": [
      "[(100.0, 85.5, 10.6)]\n"
     ]
    }
   ],
   "source": [
    "cursor.execute('''WITH stats AS (\n",
    "    SELECT AVG(value) as median_val\n",
    "    FROM (\n",
    "        SELECT value\n",
    "        FROM test_data\n",
    "        ORDER BY value\n",
    "        LIMIT 2 - (SELECT COUNT(*) FROM test_data) % 2\n",
    "        OFFSET (SELECT (COUNT(*) - 1) / 2 FROM test_data)\n",
    "    )\n",
    "),\n",
    "\n",
    "mad_calc AS (\n",
    "    SELECT AVG(ABS(value - median_val)) as mad\n",
    "    FROM test_data, stats\n",
    ")\n",
    "\n",
    "SELECT value, \n",
    "    ABS(value - (SELECT median_val FROM stats)) as deviation,\n",
    "    (SELECT mad FROM mad_calc) as mad\n",
    "FROM test_data\n",
    "WHERE ABS(value - (SELECT median_val FROM stats)) > \n",
    "      1.5 * (SELECT mad FROM mad_calc)\n",
    "ORDER BY value;''')\n",
    "\n",
    "print(cursor.fetchall())\n",
    "conn.commit()"
   ]
  },
  {
   "cell_type": "markdown",
   "id": "f0cc850d",
   "metadata": {},
   "source": [
    "Câu 5"
   ]
  },
  {
   "cell_type": "code",
   "execution_count": null,
   "id": "74c7a99d",
   "metadata": {},
   "outputs": [],
   "source": [
    "cursor.execute(''' CREATE TABLE Patient (\n",
    "    patient_id INTEGER PRIMARY KEY AUTOINCREMENT,\n",
    "    last_name TEXT,\n",
    "    height FLOAT,\n",
    "    weight FLOAT\n",
    ");''')\n",
    "\n",
    "cursor.execute('''INSERT INTO Patient (last_name, height, weight) VALUES \n",
    "('Nguyen', 170, 60),\n",
    "('Tran', 165, 50),\n",
    "('Le', 182, 70),\n",
    "('Pham', 157, 40),\n",
    "('Hoang', 177, 80),\n",
    "('Smith', 170, 65),\n",
    "('Johnson', 180, 75),\n",
    "('Williams', 175, 70),\n",
    "('Jones', 160, 55),\n",
    "('Brown', 172, 68),\n",
    "('Davis', 169, 62),\n",
    "('Garcia', 178, 72),\n",
    "('Rodriguez', 174, 66),\n",
    "('Martinez', 163, 58),\n",
    "('Hernandez', 167, 64),\n",
    "('Lopez', 171, 63),\n",
    "('Smith', 168, 65)''')\n",
    "conn.commit()"
   ]
  },
  {
   "cell_type": "code",
   "execution_count": 30,
   "id": "2bb7fb74",
   "metadata": {},
   "outputs": [
    {
     "name": "stdout",
     "output_type": "stream",
     "text": [
      "[('Smith', 65.0, 'Smith', 65.0)]\n"
     ]
    }
   ],
   "source": [
    "cursor.execute('''SELECT p1.last_name, p1.weight, p2.last_name, p2.weight\n",
    "FROM Patient p1, Patient p2\n",
    "WHERE p1.last_name = p2.last_name \n",
    "AND p1.weight = p2.weight\n",
    "AND p1.patient_id < p2.patient_id;''')\n",
    "print(cursor.fetchall())\n",
    "conn.commit()"
   ]
  }
 ],
 "metadata": {
  "kernelspec": {
   "display_name": "Python 3",
   "language": "python",
   "name": "python3"
  },
  "language_info": {
   "codemirror_mode": {
    "name": "ipython",
    "version": 3
   },
   "file_extension": ".py",
   "mimetype": "text/x-python",
   "name": "python",
   "nbconvert_exporter": "python",
   "pygments_lexer": "ipython3",
   "version": "3.11.9"
  }
 },
 "nbformat": 4,
 "nbformat_minor": 5
}
